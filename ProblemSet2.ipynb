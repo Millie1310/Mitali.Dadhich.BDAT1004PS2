{
 "cells": [
  {
   "cell_type": "markdown",
   "id": "aa77b072-4b39-49dc-bf46-e7c4a90d6abb",
   "metadata": {},
   "source": [
    "# Problem Set 2"
   ]
  },
  {
   "cell_type": "markdown",
   "id": "f110c093",
   "metadata": {},
   "source": [
    "# Question 1"
   ]
  },
  {
   "cell_type": "markdown",
   "id": "1c0f1d2e-5a7f-4c7f-b2ac-699934b0c805",
   "metadata": {},
   "source": [
    "Consider the following Python module:  a = 0 def b(): global a a = c(a) def c(a): return a + 2\n",
    "\n",
    "After importing the module into the interpreter, you execute: b() b() b() a ? What value is displayed when the last expression (a) is evaluated? Explain your answer by indicating what happens in every executed statement. "
   ]
  },
  {
   "cell_type": "code",
   "execution_count": 7,
   "id": "7d81e85c-3ef3-409f-a1da-087e74befebf",
   "metadata": {
    "tags": []
   },
   "outputs": [
    {
     "data": {
      "text/plain": [
       "6"
      ]
     },
     "execution_count": 7,
     "metadata": {},
     "output_type": "execute_result"
    }
   ],
   "source": [
    "a = 0 #global varibale=> a=0\n",
    "def b():\n",
    "    global a \n",
    "    a = c(a) \n",
    "def c(a):\n",
    "    return a + 2 \n",
    "b() #a=0 -> a=c(0)=2=0+2\n",
    "b() #a=2 -> a=c(2)=4=2+2\n",
    "b() #a=4 -> a=c(4)=6=4+2\n",
    "a #A is globally declared, and initially set to 2 by variable b. Subsequently, b increments a in increments of 2 (2, 4, 6), and then the value of a is displayed."
   ]
  },
  {
   "cell_type": "markdown",
   "id": "97262ba9-d485-412e-b8e7-d3a62cea8262",
   "metadata": {},
   "source": [
    "# Question 2"
   ]
  },
  {
   "cell_type": "markdown",
   "id": "c09f0acf",
   "metadata": {},
   "source": [
    "Function fileLength(), given to you, takes the name of a file as input and returns the length of the file:\n",
    "\n",
    ">>> fileLength('midterm.py')\n",
    "284\n",
    "\n",
    ">>> fileLength('idterm.py')\n",
    "Traceback (most recent call last): File \"<pyshell#34>\", line 1, in fileLength('idterm.py') File \"/Users/me/midterm.py\", line 3, in fileLength infile = open(filename) FileNotFoundError: [Errno 2] No such file or directory: 'idterm.py' As shown above, if the file cannot be found by the interpreter or if it cannot be read as a text file, an exception will be raised. Modify function fileLength() so that a friendly message is printed instead:\n",
    "\n",
    ">>> fileLength('midterm.py')\n",
    "358\n",
    "\n",
    ">>> fileLength('idterm.py')\n",
    "File idterm.py not found."
   ]
  },
  {
   "cell_type": "code",
   "execution_count": 2,
   "id": "5df4e402-d5a3-4e4b-a2c5-4abebbad2229",
   "metadata": {
    "tags": []
   },
   "outputs": [
    {
     "data": {
      "text/plain": [
       "'File idterm.py not found.'"
      ]
     },
     "execution_count": 2,
     "metadata": {},
     "output_type": "execute_result"
    }
   ],
   "source": [
    "def fileLength(filename):\n",
    "    try:\n",
    "        infile = open(filename, 'r')  \n",
    "        contents = infile.read()\n",
    "        infile.close()\n",
    "        #length = len(contents)\n",
    "        #return length\n",
    "        print(len(contents))\n",
    "    except FileNotFoundError:\n",
    "        return f\"File {filename} not found.\"\n",
    "filename1 = \"midterm.py\"\n",
    "filename2 = \"idterm.py\"\n",
    "fileLength(filename1)\n",
    "fileLength(filename2)"
   ]
  },
  {
   "cell_type": "markdown",
   "id": "7cbb39b0-efa8-497a-adbf-3b20279c17b5",
   "metadata": {},
   "source": [
    "# Question 3"
   ]
  },
  {
   "cell_type": "markdown",
   "id": "a473a931",
   "metadata": {},
   "source": [
    "Write a class named Marsupial that can be used as shown below:\n",
    "\n",
    ">>> m = Marsupial()\n",
    ">>> m.put_in_pouch('doll')\n",
    ">>> m.put_in_pouch('firetruck')\n",
    ">>> m.put_in_pouch('kitten')\n",
    ">>> m.pouch_contents()\n",
    "['doll', 'firetruck', 'kitten'] Now write a class named Kangaroo as a subclass of Marsupial that inherits all the attributes of Marsupial and also: a. extends the Marsupial init constructor to take, as input, the coordinates x and y of the Kangaroo object, b. supports method jump that takes number values dx and dy as input and moves the kangaroo by dx units along the x-axis and by dy units along the yaxis, and c. overloads the str operator so it behaves as shown below.\n",
    "\n",
    ">>> k = Kangaroo(0,0)\n",
    ">>> print(k)\n",
    "I am a Kangaroo located at coordinates (0,0)\n",
    "\n",
    ">>> k.put_in_pouch('doll')\n",
    ">>> k.put_in_pouch('firetruck')\n",
    ">>> k.put_in_pouch('kitten')\n",
    ">>> k.pouch_contents()\n",
    "['doll', 'firetruck', 'kitten']\n",
    "\n",
    ">>> k.jump(1,0)\n",
    ">>> k.jump(1,0)\n",
    ">>> k.jump(1,0)\n",
    ">>> print(k)\n",
    "I am a Kangaroo located at coordinates (3,0)"
   ]
  },
  {
   "cell_type": "code",
   "execution_count": 3,
   "id": "f54649c2",
   "metadata": {},
   "outputs": [],
   "source": [
    "class Marsupial:\n",
    "    def __init__(self):\n",
    "        self.pouch = []\n",
    "\n",
    "    def put_in_pouch(self, item):\n",
    "        self.pouch.append(item)\n",
    "\n",
    "    def pouch_contents(self):\n",
    "        return self.pouch"
   ]
  },
  {
   "cell_type": "code",
   "execution_count": 4,
   "id": "b6914404-fc56-47cb-8db5-859ce47714b3",
   "metadata": {
    "tags": []
   },
   "outputs": [
    {
     "name": "stdout",
     "output_type": "stream",
     "text": [
      "I am a Kangaroo located at coordinates (0,0)\n",
      "['doll', 'firetruck', 'kitten']\n",
      "I am a Kangaroo located at coordinates (3,0)\n"
     ]
    }
   ],
   "source": [
    "\n",
    "\n",
    "class Kangaroo(Marsupial):\n",
    "    def __init__(self, x=0, y=0):\n",
    "        super().__init__()\n",
    "        self.x = x\n",
    "        self.y = y\n",
    "\n",
    "    def jump(self, dx, dy):\n",
    "        self.x += dx\n",
    "        self.y += dy\n",
    "#added jump to a original position\n",
    "    def __str__(self):\n",
    "        return f\"I am a Kangaroo located at coordinates ({self.x},{self.y})\"\n",
    "k = Kangaroo(0, 0)   # Create an instance of the Kangaroo class\n",
    "print(k) # Print Kangaroo's initial location\n",
    "k.put_in_pouch('doll')\n",
    "k.put_in_pouch('firetruck')\n",
    "k.put_in_pouch('kitten')\n",
    "contents = k.pouch_contents()# Check the pouch contents\n",
    "print(contents) \n",
    "k.jump(1, 0)\n",
    "k.jump(1, 0)\n",
    "k.jump(1, 0)\n",
    "# Print Kangaroo's updated location\n",
    "print(k)  # Output: I am a Kangaroo located at coordinates (3,0)"
   ]
  },
  {
   "cell_type": "markdown",
   "id": "e2374c73-73d8-471e-a1f9-2d971adfaedb",
   "metadata": {
    "tags": []
   },
   "source": [
    "# Question 4"
   ]
  },
  {
   "cell_type": "markdown",
   "id": "5e7604f2-efec-44c8-a89f-4676d5cddbc6",
   "metadata": {},
   "source": [
    "#Write function collatz() that takes a positive integer x as input and prints the Collatz sequence starting at x. A Collatz sequence is obtained by repeatedly applying this rule to the previous number x in the sequence: 𝑥/2 𝑖𝑓 𝑥 𝑖𝑠 𝑒𝑣𝑒𝑛 x = { 3𝑥 + 1 𝑖𝑓 𝑥 𝑖𝑠 𝑜𝑑𝑑 Your function should stop when the sequence gets to number 1. Your implementation must be recursive, without any loops.\n",
    "\n",
    ">>> collatz(1)\n",
    "1\n",
    "\n",
    ">>> collatz(10)\n",
    "10 5 16 8 4 2 1"
   ]
  },
  {
   "cell_type": "code",
   "execution_count": 24,
   "id": "fe5a0ba3-1d05-4987-babb-a78d6a67baf1",
   "metadata": {
    "tags": []
   },
   "outputs": [
    {
     "name": "stdout",
     "output_type": "stream",
     "text": [
      "1\n",
      "\n",
      "10\n",
      "5\n",
      "16\n",
      "8\n",
      "4\n",
      "2\n",
      "1\n"
     ]
    }
   ],
   "source": [
    "def collatz(x):\n",
    "    print(x)\n",
    "\n",
    "    if x == 1:\n",
    "        return\n",
    "    elif x % 2 == 0:\n",
    "        collatz(x // 2)\n",
    "    else:\n",
    "        collatz(3 * x + 1)\n",
    "        \n",
    "collatz(1) \n",
    "print()\n",
    "collatz(10)\n"
   ]
  },
  {
   "cell_type": "markdown",
   "id": "08f0e0e1-3c70-4675-a972-51dfb5416fcd",
   "metadata": {},
   "source": [
    "# Question 5"
   ]
  },
  {
   "cell_type": "markdown",
   "id": "21da5232-9a25-4294-94f8-00e96fa85b99",
   "metadata": {},
   "source": [
    "#Write a recursive method binary() that takes a non-negative integer n and prints the binary representation of integer n.\n",
    "\n",
    ">>> binary(0)\n",
    "0\n",
    "\n",
    ">>> binary(1)\n",
    "1\n",
    "\n",
    ">>> binary(3)\n",
    "11\n",
    "\n",
    ">>> binary(9)\n",
    "1001\n",
    "\n"
   ]
  },
  {
   "cell_type": "code",
   "execution_count": 25,
   "id": "0a4458b3-d1ac-4356-889b-ad8b608e27d0",
   "metadata": {
    "tags": []
   },
   "outputs": [
    {
     "name": "stdout",
     "output_type": "stream",
     "text": [
      "0\n",
      "\n",
      "1\n",
      "\n",
      "11\n",
      "\n",
      "1001"
     ]
    }
   ],
   "source": [
    "def binary(n):\n",
    "    if n > 1:\n",
    "        binary(n // 2)\n",
    "    print(n % 2, end='')\n",
    "\n",
    "# For example:\n",
    "w = 0\n",
    "binary(w)\n",
    "print(\"\\n\")\n",
    "x = 1\n",
    "binary(x)\n",
    "print(\"\\n\")\n",
    "y = 3\n",
    "binary(y)\n",
    "print(\"\\n\")\n",
    "z = 9\n",
    "binary(z)\n"
   ]
  },
  {
   "cell_type": "markdown",
   "id": "5273c35d-1d74-453c-abb8-fb34525d04ef",
   "metadata": {},
   "source": [
    "# Question 6"
   ]
  },
  {
   "cell_type": "markdown",
   "id": "7d6cd614-a868-4e1f-b32e-8cf584a63aa0",
   "metadata": {},
   "source": [
    "#Implement a class named HeadingParser that can be used to parse an HTML document, and retrieve and print all the headings in the document. You should implement your class as a subclass of HTMLParser, defined in Standard Library module html.parser. When fed a string containing HTML code, your class should print the headings, one per line and in the order in which they appear in the document. Each heading should be indented as follows: an h1 heading should have indentation 0, and h2 heading should have indentation 1, etc. Test your implementation using w3c.html.\n",
    "\n",
    ">>> infile = open('w3c.html')\n",
    ">>> content = infile.read()\n",
    ">>> infile.close()\n",
    ">>> hp = HeadingParser()\n",
    ">>> hp.feed(content)\n",
    "W3C Mission Principles"
   ]
  },
  {
   "cell_type": "code",
   "execution_count": 11,
   "id": "8a706b73",
   "metadata": {},
   "outputs": [
    {
     "name": "stdout",
     "output_type": "stream",
     "text": [
      "W3C Mission\n",
      " Principles\n",
      " \n",
      " "
     ]
    }
   ],
   "source": [
    "from html.parser import HTMLParser\n",
    "import re\n",
    " \n",
    "class HeadingParser(HTMLParser):\n",
    "    def __init__(self):\n",
    "        super().__init__()\n",
    "        self.indentation = 0\n",
    "        self.headings = []\n",
    "        self.exclude_title = False\n",
    " \n",
    "    def handle_starttag(self, tag, attrs):\n",
    "        if tag.lower().startswith('h'):\n",
    "            match = re.match(r'h(\\d+)', tag, re.IGNORECASE)\n",
    "            if match:\n",
    "                self.indentation = int(match.group(1)) - 1\n",
    "        elif tag.lower() == 'title':\n",
    "            self.exclude_title = True\n",
    " \n",
    "    def handle_endtag(self, tag):\n",
    "        if tag.lower() == 'title':\n",
    "            self.exclude_title = False\n",
    " \n",
    "    def handle_data(self, data):\n",
    "        if self.indentation >= 0 and not self.exclude_title:\n",
    "            heading = ' ' * self.indentation + data.strip()\n",
    "            if heading:\n",
    "                self.headings.append(heading)\n",
    " \n",
    "    def print_headings(self):\n",
    "        for i, heading in enumerate(self.headings):\n",
    "            print(heading, end='')\n",
    "            if i != len(self.headings) - 1:\n",
    "                print()\n",
    " \n",
    "infile = open('w3c.html')\n",
    "content = infile.read()\n",
    "infile.close()\n",
    "hp = HeadingParser()\n",
    "hp.feed(content)\n",
    "hp.print_headings()\n"
   ]
  },
  {
   "cell_type": "markdown",
   "id": "bb208682-3efe-40d1-94be-d2b95e944dac",
   "metadata": {},
   "source": [
    "# Question 7"
   ]
  },
  {
   "cell_type": "markdown",
   "id": "14ab097b-9c45-49af-aa1c-11cf8f647b4f",
   "metadata": {},
   "source": [
    "#Implement recursive function webdir() that takes as input: a URL (as a string) and non-negative integers depth and indent. Your function should visit every web page reachable from the starting URL web page in depth clicks or less, and print each web page's URL. As shown below, indentation, specified by indent, should be used to indicate the depth of a URL.\n",
    "\n",
    ">>>\n",
    "webdir('http://reed.cs.depaul.edu/lperkovic/csc242/test1.html' , 2, 0) http://reed.cs.depaul.edu/lperkovic/csc242/test1.html http://reed.cs.depaul.edu/lperkovic/csc242/test2.html http://reed.cs.depaul.edu/lperkovic/csc242/test4.html http://reed.cs.depaul.edu/lperkovic/csc242/test3.html http://reed.cs.depaul.edu/lperkovic/csc242/test4.html"
   ]
  },
  {
   "cell_type": "code",
   "execution_count": 12,
   "id": "491fddd7",
   "metadata": {},
   "outputs": [
    {
     "name": "stdout",
     "output_type": "stream",
     "text": [
      "https://www.gmail.com\n",
      "https://www.gmail.com/signin/usernamerecovery?continue=https://mail.google.com/mail/u/0/&dsh=S-1912166950:1698366286582808&emr=1&flowEntry=ServiceLogin&flowName=WebLiteSignIn&followup=https://mail.google.com/mail/u/0/&ifkv=AVQVeywU0LiNwbs7Fvl71qguiMm7pTLiqDZmjbm5PCAs-OSLc_LsOnj3cyvjjsj7i0Cgm-eHUK1UJA&osid=1&service=mail\n",
      "https://support.google.com/accounts?p=signin_privatebrowsing&hl=en-US\n",
      "https://www.gmail.com/SignUp?cc=CA&continue=https://mail.google.com/mail/u/0/&dsh=S-1912166950:1698366286582808&emr=1&flowEntry=ServiceLogin&flowName=WebLiteSignIn&followup=https://mail.google.com/mail/u/0/&ifkv=AVQVeywU0LiNwbs7Fvl71qguiMm7pTLiqDZmjbm5PCAs-OSLc_LsOnj3cyvjjsj7i0Cgm-eHUK1UJA&osid=1&service=mail\n",
      "https://support.google.com/accounts?hl=en-US&p=account_iph\n",
      "https://accounts.google.com/TOS?loc=CA&hl=en-US&privacy=true\n",
      "https://accounts.google.com/TOS?loc=CA&hl=en-US\n"
     ]
    }
   ],
   "source": [
    "from urllib import request\n",
    "from urllib.parse import urlparse, urljoin\n",
    "from html.parser import HTMLParser\n",
    " \n",
    "class WebDirHTMLParser(HTMLParser):\n",
    "    def __init__(self, base_url, depth, indent):\n",
    "        super().__init__()\n",
    "        self.base_url = base_url\n",
    "        self.depth = depth\n",
    "        self.indent = indent\n",
    "        self.current_depth = 0\n",
    "        self.visited_urls = set()\n",
    " \n",
    "    def handle_starttag(self, tag, attrs):\n",
    "        if self.current_depth <= self.depth and tag == 'a':\n",
    "            for attr in attrs:\n",
    "                if attr[0] == 'href':\n",
    "                    url = urljoin(self.base_url, attr[1])\n",
    "                    if url not in self.visited_urls:\n",
    "                        self.visited_urls.add(url)\n",
    "                        print(' ' * self.indent * self.current_depth + url)\n",
    "                        if self.current_depth < self.depth:\n",
    "                            self.current_depth += 1\n",
    "                            self.parse_url(url)\n",
    " \n",
    "    def parse_url(self, url):\n",
    "        try:\n",
    "            response = request.urlopen(url)\n",
    "            html_content = response.read().decode('utf-8')\n",
    "            parser = WebDirHTMLParser(url, self.depth, self.indent)\n",
    "            parser.feed(html_content)\n",
    "        except:\n",
    "            pass\n",
    " \n",
    "def webdir(url, depth, indent):\n",
    "    parsed_url = urlparse(url)\n",
    "    base_url = parsed_url.scheme + '://' + parsed_url.netloc\n",
    "    print(url)\n",
    "    parser = WebDirHTMLParser(base_url, depth, indent)\n",
    "    parser.parse_url(url)\n",
    " \n",
    "# Test the webdir function\n",
    "webdir('https://www.gmail.com', 1, 0)"
   ]
  },
  {
   "cell_type": "markdown",
   "id": "72c2d794-b291-4ee5-a92d-b052de51d1ee",
   "metadata": {},
   "source": [
    "# Question 8"
   ]
  },
  {
   "cell_type": "markdown",
   "id": "e68978df-80d5-4a41-9b1f-356d25455edb",
   "metadata": {},
   "source": [
    "#Write SQL queries on the below database table that return: a) All the temperature data. b) All the cities, but without repetition. c) All the records for India. d) All the Fall records. e) The city, country, and season for which the average rainfall is between 200 and 400 millimeters. f) The city and country for which the average Fall temperature is above 20 degrees, in increasing temperature order. g) The total annual rainfall for Cairo. h) The total rainfall for each season"
   ]
  },
  {
   "cell_type": "markdown",
   "id": "acdfe8b3",
   "metadata": {},
   "source": [
    "A)  SELECT temperature FROM weather_data;\n",
    "B)  SELECT DISTINCT city FROM weather_data;\n",
    "C)  SELECT * FROM weather_data WHERE country = 'India';\n",
    " \n",
    "D) SELECT * FROM weather_data WHERE season = 'Fall';\n",
    " \n",
    "E) SELECT city, country, season\n",
    "   FROM weather_data\n",
    "   GROUP BY city, country, season\n",
    "   HAVING AVG(rainfall) BETWEEN 200 AND 400;\n",
    " \n",
    "F) SELECT city, country\n",
    "   FROM weather_data\n",
    "   WHERE season = 'Fall'\n",
    "   GROUP BY city, country\n",
    "   HAVING AVG(temperature) > 20\n",
    "   ORDER BY AVG(temperature) ASC;\n",
    " \n",
    "G)  SELECT SUM(rainfall) AS total_rainfall\n",
    "    FROM weather_data\n",
    "    WHERE city = 'Cairo';\n",
    " \n",
    "H) SELECT season, SUM(rainfall) AS total_rainfall\n",
    "   FROM weather_data\n",
    "  GROUP BY season;"
   ]
  },
  {
   "cell_type": "markdown",
   "id": "ca7cc89a-83a2-4e57-84da-bab6582b60c4",
   "metadata": {},
   "source": [
    "# Question 9"
   ]
  },
  {
   "cell_type": "markdown",
   "id": "fce0c328-39a5-4e26-a796-cb733d550186",
   "metadata": {},
   "source": [
    "#Suppose list words is defined as follows:\n",
    "\n",
    ">>> words = ['The', 'quick', 'brown', 'fox', 'jumps', 'over', 'the', 'lazy', 'dog']\n",
    "Write list comprehension expressions that use list words and generate the following lists:\n",
    "\n",
    "a) ['THE', 'QUICK', 'BROWN', 'FOX', 'JUMPS', 'OVER', 'THE', 'LAZY', 'DOG']\n",
    "\n",
    "b) ['the', 'quick', 'brown', 'fox', 'jumps', 'over', 'the', 'lazy', 'dog']\n",
    "\n",
    "c) [3, 5, 5, 3, 5, 4, 3, 4, 3] (the list of lengths of words in list words).\n",
    "\n",
    "d) [['THE', 'the', 3], ['QUICK', 'quick', 5], ['BROWN','brown', 5], ['FOX', 'fox', 3], ['JUMPS', 'jumps', 5], ['OVER', 'over', 4], ['THE', 'the', 3], ['LAZY', 'lazy', 4], ['DOG', 'dog', 3]] (the list containing a list for every word of list words, where each list contains the word in uppercase and lowercase and the length of the word.)\n",
    "\n",
    "e) ['The', 'quick', 'brown', 'fox', 'jumps', 'over', 'the', 'lazy', 'dog'] (the list of words in list words containing 4 or more characters.)"
   ]
  },
  {
   "cell_type": "code",
   "execution_count": 5,
   "id": "3a73e424-bf36-484d-a540-3dac5ac8ffe9",
   "metadata": {
    "tags": []
   },
   "outputs": [
    {
     "name": "stdout",
     "output_type": "stream",
     "text": [
      " Uppercase: ['THE', 'QUICK', 'BROWN', 'FOX', 'JUMPS', 'OVER', 'THE', 'LAZY', 'DOG']\n",
      " Lowercase: ['the', 'quick', 'brown', 'fox', 'jumps', 'over', 'the', 'lazy', 'dog']\n",
      " Word lengths: [3, 5, 5, 3, 5, 4, 3, 4, 3]\n",
      " Word info: [['THE', 'the', 3], ['QUICK', 'quick', 5], ['BROWN', 'brown', 5], ['FOX', 'fox', 3], ['JUMPS', 'jumps', 5], ['OVER', 'over', 4], ['THE', 'the', 3], ['LAZY', 'lazy', 4], ['DOG', 'dog', 3]]\n",
      " Words with 4 or more characters: ['quick', 'brown', 'jumps', 'over', 'lazy']\n"
     ]
    }
   ],
   "source": [
    "words = ['The', 'quick', 'brown', 'fox', 'jumps', 'over', 'the', 'lazy', 'dog']\n",
    "uppercase = [word.upper() for word in words]\n",
    "lowercase = [word.lower() for word in words]\n",
    "wordLengths = [len(word) for word in words]\n",
    "word_Detail = [[word.upper(), word.lower(), len(word)] for word in words]\n",
    "longWords = [word for word in words if len(word) >= 4]\n",
    " \n",
    "print(\" Uppercase:\", uppercase)\n",
    "print(\" Lowercase:\", lowercase)\n",
    "print(\" Word lengths:\", wordLengths)\n",
    "print(\" Word info:\", word_Detail)\n",
    "print(\" Words with 4 or more characters:\", longWords)"
   ]
  }
 ],
 "metadata": {
  "kernelspec": {
   "display_name": "Python 3 (ipykernel)",
   "language": "python",
   "name": "python3"
  },
  "language_info": {
   "codemirror_mode": {
    "name": "ipython",
    "version": 3
   },
   "file_extension": ".py",
   "mimetype": "text/x-python",
   "name": "python",
   "nbconvert_exporter": "python",
   "pygments_lexer": "ipython3",
   "version": "3.11.4"
  }
 },
 "nbformat": 4,
 "nbformat_minor": 5
}
